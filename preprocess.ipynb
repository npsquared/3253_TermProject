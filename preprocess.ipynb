{
 "cells": [
  {
   "cell_type": "code",
   "execution_count": 21,
   "metadata": {},
   "outputs": [],
   "source": [
    "import numpy as np\n",
    "import os\n",
    "import errno\n",
    "from PIL import Image  \n"
   ]
  },
  {
   "cell_type": "code",
   "execution_count": 22,
   "metadata": {},
   "outputs": [],
   "source": [
    "train_path = \"datasets/data/train_set/\"\n",
    "test_path = \"datasets/data/test_set/\""
   ]
  },
  {
   "cell_type": "code",
   "execution_count": 23,
   "metadata": {},
   "outputs": [],
   "source": [
    "data_file_path = \"datasets/data/numpy_bitmap_test\""
   ]
  },
  {
   "cell_type": "code",
   "execution_count": 31,
   "metadata": {},
   "outputs": [
    {
     "name": "stdout",
     "output_type": "stream",
     "text": [
      "ant.npy\n",
      "datasets/data/train_set/ant\n",
      "datasets/data/test_set/ant\n",
      "arm.npy\n",
      "datasets/data/train_set/arm\n",
      "datasets/data/test_set/arm\n"
     ]
    }
   ],
   "source": [
    "for filename in os.listdir(data_file_path):\n",
    "    if filename.endswith('.npy'):\n",
    "        data = np.load(data_file_path+\"/\"+filename)\n",
    "        print(filename)\n",
    "        data = data[0:10000,:]\n",
    "    \n",
    "    if not os.path.exists(train_path+os.path.splitext(filename)[0]):\n",
    "        try:\n",
    "            os.makedirs(train_path+os.path.splitext(filename)[0])\n",
    "        except OSError as exc:\n",
    "            if exc.errno != errno.EEXIST:\n",
    "                raise\n",
    "    print(train_path+os.path.splitext(filename)[0])\n",
    "    \n",
    "    if not os.path.exists(test_path+os.path.splitext(filename)[0]):\n",
    "        try:\n",
    "            os.makedirs(test_path+os.path.splitext(filename)[0])\n",
    "        except OSError as exc:\n",
    "            if exc.errno != errno.EEXIST:\n",
    "                raise\n",
    "    print(test_path+os.path.splitext(filename)[0])\n",
    "    \n",
    "    for i in range(0,10000):\n",
    "        x=np.reshape(data[i],(28,28))  \n",
    "        img = Image.fromarray(x)\n",
    "        img = img.convert('L')                            \n",
    "        if i<8000: \n",
    "            img.save(train_path+os.path.splitext(filename)[0]+\"/\"+os.path.splitext(filename)[0]+str(i)+\".png\")\n",
    "        else: \n",
    "            img.save(test_path+os.path.splitext(filename)[0]+\"/\"+os.path.splitext(filename)[0]+str(i-8000)+\".png\")\n",
    "\n",
    "        "
   ]
  },
  {
   "cell_type": "code",
   "execution_count": 32,
   "metadata": {},
   "outputs": [
    {
     "data": {
      "text/plain": [
       "(10000, 784)"
      ]
     },
     "execution_count": 32,
     "metadata": {},
     "output_type": "execute_result"
    }
   ],
   "source": [
    "data.shape"
   ]
  },
  {
   "cell_type": "code",
   "execution_count": null,
   "metadata": {},
   "outputs": [],
   "source": []
  }
 ],
 "metadata": {
  "kernelspec": {
   "display_name": "Python 3",
   "language": "python",
   "name": "python3"
  },
  "language_info": {
   "codemirror_mode": {
    "name": "ipython",
    "version": 3
   },
   "file_extension": ".py",
   "mimetype": "text/x-python",
   "name": "python",
   "nbconvert_exporter": "python",
   "pygments_lexer": "ipython3",
   "version": "3.8.2"
  }
 },
 "nbformat": 4,
 "nbformat_minor": 4
}
