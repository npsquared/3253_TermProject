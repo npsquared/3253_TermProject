{
  "nbformat": 4,
  "nbformat_minor": 0,
  "metadata": {
    "kernelspec": {
      "name": "python3",
      "display_name": "Python 3"
    },
    "language_info": {
      "codemirror_mode": {
        "name": "ipython",
        "version": 3
      },
      "file_extension": ".py",
      "mimetype": "text/x-python",
      "name": "python",
      "nbconvert_exporter": "python",
      "pygments_lexer": "ipython3",
      "version": "3.8.2"
    },
    "colab": {
      "name": "data_model.ipynb",
      "provenance": [],
      "include_colab_link": true
    },
    "accelerator": "GPU"
  },
  "cells": [
    {
      "cell_type": "markdown",
      "metadata": {
        "id": "view-in-github",
        "colab_type": "text"
      },
      "source": [
        "<a href=\"https://colab.research.google.com/github/npsquared/3253_TermProject/blob/master/data_model.ipynb\" target=\"_parent\"><img src=\"https://colab.research.google.com/assets/colab-badge.svg\" alt=\"Open In Colab\"/></a>"
      ]
    },
    {
      "cell_type": "code",
      "metadata": {
        "id": "X1ExeGF_l_eP",
        "colab_type": "code",
        "colab": {}
      },
      "source": [
        "img_size = (28, 28, 1)\n",
        "layer_sizes = (128, 64)\n",
        "n_filters = (32, 64, 128)\n",
        "kernel_sizes = (7, 3, 3)\n",
        "pool_size = 2\n",
        "drop_prob = 0.5\n",
        "\n",
        "\n",
        "n_classes = 345   #output_dim/units is equal to the number of image classes"
      ],
      "execution_count": 0,
      "outputs": []
    },
    {
      "cell_type": "code",
      "metadata": {
        "id": "hkXmkFFYcbo5",
        "colab_type": "code",
        "colab": {}
      },
      "source": [
        "from tensorflow.python.keras.layers import Dense\n",
        "from tensorflow.python.keras import Sequential\n",
        "from tensorflow.python.keras.layers import Convolution2D, MaxPooling2D, Dropout, Flatten\n",
        "\n"
      ],
      "execution_count": 0,
      "outputs": []
    },
    {
      "cell_type": "code",
      "metadata": {
        "id": "IzNHPiZQoQI8",
        "colab_type": "code",
        "colab": {}
      },
      "source": [
        "model = Sequential()\n",
        "\n"
      ],
      "execution_count": 0,
      "outputs": []
    },
    {
      "cell_type": "code",
      "metadata": {
        "id": "A1rab9GRoQHa",
        "colab_type": "code",
        "colab": {}
      },
      "source": [
        "# conv layer 1\n",
        "model.add(Convolution2D(filters = 32,\n",
        "                        kernel_size = (3,3),\n",
        "                        activation = \"relu\",\n",
        "                        input_shape = (28,28,1)))\n",
        "\n"
      ],
      "execution_count": 0,
      "outputs": []
    },
    {
      "cell_type": "code",
      "metadata": {
        "id": "UimJogkeiEIx",
        "colab_type": "code",
        "colab": {}
      },
      "source": [
        "# conv layer 2\n",
        "model.add(Convolution2D(filters = 32,\n",
        "                        kernel_size = (3,3),\n",
        "                        activation = \"relu\"))\n",
        "\n"
      ],
      "execution_count": 0,
      "outputs": []
    },
    {
      "cell_type": "code",
      "metadata": {
        "id": "N-U_ke1Lm_kY",
        "colab_type": "code",
        "colab": {}
      },
      "source": [
        "# pooling layer 1\n",
        "model.add(MaxPooling2D(pool_size=(2,2)))\n",
        "\n"
      ],
      "execution_count": 0,
      "outputs": []
    },
    {
      "cell_type": "code",
      "metadata": {
        "id": "151xNFe7m_fO",
        "colab_type": "code",
        "colab": {}
      },
      "source": [
        "# deactivating some elements\n",
        "model.add(Dropout(.20))\n",
        "\n"
      ],
      "execution_count": 0,
      "outputs": []
    },
    {
      "cell_type": "code",
      "metadata": {
        "id": "30hmoYZhiopa",
        "colab_type": "code",
        "colab": {}
      },
      "source": [
        "# conv layer 3\n",
        "model.add(Convolution2D(filters = 64,\n",
        "                        kernel_size = (3,3),\n",
        "                        activation = \"relu\"))\n",
        "                        \n",
        "\n"
      ],
      "execution_count": 0,
      "outputs": []
    },
    {
      "cell_type": "code",
      "metadata": {
        "id": "iR13aozLionq",
        "colab_type": "code",
        "colab": {}
      },
      "source": [
        "# conv layer 4\n",
        "model.add(Convolution2D(filters = 64,\n",
        "                        kernel_size = (3,3),\n",
        "                        activation = \"relu\"))\n",
        "                       \n",
        "\n"
      ],
      "execution_count": 0,
      "outputs": []
    },
    {
      "cell_type": "code",
      "metadata": {
        "id": "Ec7LlV10iwIQ",
        "colab_type": "code",
        "colab": {}
      },
      "source": [
        "# pooling layer 2\n",
        "model.add(MaxPooling2D(pool_size=(2,2)))\n",
        "\n"
      ],
      "execution_count": 0,
      "outputs": []
    },
    {
      "cell_type": "code",
      "metadata": {
        "id": "fatHI9XPiwRq",
        "colab_type": "code",
        "colab": {}
      },
      "source": [
        "# deactivating some elements\n",
        "model.add(Dropout(.1))\n",
        "\n"
      ],
      "execution_count": 0,
      "outputs": []
    },
    {
      "cell_type": "code",
      "metadata": {
        "id": "-if5odHjiwn7",
        "colab_type": "code",
        "colab": {}
      },
      "source": [
        "# flatten layer\n",
        "model.add(Flatten())\n",
        "\n"
      ],
      "execution_count": 0,
      "outputs": []
    },
    {
      "cell_type": "code",
      "metadata": {
        "id": "HjkNyMZoiwks",
        "colab_type": "code",
        "colab": {}
      },
      "source": [
        "# fully connected layer\n",
        "model.add(Dense(512, activation=\"relu\"))\n",
        "model.add(Dense(units=345, activation=\"softmax\"))"
      ],
      "execution_count": 0,
      "outputs": []
    },
    {
      "cell_type": "code",
      "metadata": {
        "id": "YvO_mL6Pl_eb",
        "colab_type": "code",
        "colab": {},
        "outputId": "c9464e12-a5f0-4269-b9ea-5f45b3935306"
      },
      "source": [
        "model.summary()"
      ],
      "execution_count": 0,
      "outputs": [
        {
          "output_type": "stream",
          "text": [
            "Model: \"sequential_2\"\n",
            "_________________________________________________________________\n",
            "Layer (type)                 Output Shape              Param #   \n",
            "=================================================================\n",
            "conv2d_13 (Conv2D)           (None, 26, 26, 32)        320       \n",
            "_________________________________________________________________\n",
            "conv2d_14 (Conv2D)           (None, 24, 24, 32)        9248      \n",
            "_________________________________________________________________\n",
            "max_pooling2d_7 (MaxPooling2 (None, 12, 12, 32)        0         \n",
            "_________________________________________________________________\n",
            "dropout_7 (Dropout)          (None, 12, 12, 32)        0         \n",
            "_________________________________________________________________\n",
            "conv2d_15 (Conv2D)           (None, 10, 10, 64)        18496     \n",
            "_________________________________________________________________\n",
            "conv2d_16 (Conv2D)           (None, 8, 8, 64)          36928     \n",
            "_________________________________________________________________\n",
            "max_pooling2d_8 (MaxPooling2 (None, 4, 4, 64)          0         \n",
            "_________________________________________________________________\n",
            "dropout_8 (Dropout)          (None, 4, 4, 64)          0         \n",
            "_________________________________________________________________\n",
            "flatten_4 (Flatten)          (None, 1024)              0         \n",
            "_________________________________________________________________\n",
            "dense_5 (Dense)              (None, 256)               262400    \n",
            "_________________________________________________________________\n",
            "dense_6 (Dense)              (None, 345)               88665     \n",
            "=================================================================\n",
            "Total params: 416,057\n",
            "Trainable params: 416,057\n",
            "Non-trainable params: 0\n",
            "_________________________________________________________________\n"
          ],
          "name": "stdout"
        }
      ]
    },
    {
      "cell_type": "code",
      "metadata": {
        "id": "MjXlEY9Fl_eh",
        "colab_type": "code",
        "colab": {}
      },
      "source": [
        ""
      ],
      "execution_count": 0,
      "outputs": []
    },
    {
      "cell_type": "markdown",
      "metadata": {
        "id": "8kazdA5il_en",
        "colab_type": "text"
      },
      "source": [
        "### Generating additional training and test data using ImageDataGenerator"
      ]
    },
    {
      "cell_type": "code",
      "metadata": {
        "id": "5AlBXnGgl_ep",
        "colab_type": "code",
        "colab": {}
      },
      "source": [
        "train_path = \"datasets/data/train_set/\"\n",
        "test_path = \"datasets/data/test_set/\"\n",
        "\n",
        "data_file_path = \"datasets/data/numpy_bitmap\""
      ],
      "execution_count": 0,
      "outputs": []
    },
    {
      "cell_type": "code",
      "metadata": {
        "id": "2kKZNG8pl_eu",
        "colab_type": "code",
        "colab": {}
      },
      "source": [
        "train_datagen = ImageDataGenerator(\n",
        "        rotation_range=40,\n",
        "        width_shift_range=0.2,\n",
        "        height_shift_range=0.2,\n",
        "        rescale=1./255,\n",
        "        shear_range=0.2,\n",
        "        zoom_range=0.2,\n",
        "        horizontal_flip=True,\n",
        "        vertical_flip=False,\n",
        "        fill_mode='nearest')\n",
        "\n",
        "test_datagen = ImageDataGenerator(rescale=1./255)\n"
      ],
      "execution_count": 0,
      "outputs": []
    },
    {
      "cell_type": "code",
      "metadata": {
        "id": "FUD8IcZIl_ez",
        "colab_type": "code",
        "colab": {},
        "outputId": "c8f48ed1-a0f1-4b97-e979-b3c2686a44ae"
      },
      "source": [
        "%%time\n",
        "\n",
        "training_set = train_datagen.flow_from_directory(\n",
        "        train_path,\n",
        "        target_size=(28, 28),\n",
        "        color_mode=\"grayscale\",\n",
        "        batch_size=128,\n",
        "        class_mode='categorical')\n",
        "\n"
      ],
      "execution_count": 0,
      "outputs": [
        {
          "output_type": "stream",
          "text": [
            "Found 2760000 images belonging to 345 classes.\n"
          ],
          "name": "stdout"
        }
      ]
    },
    {
      "cell_type": "code",
      "metadata": {
        "id": "arHbdX-Fl_e5",
        "colab_type": "code",
        "colab": {},
        "outputId": "e3db2b35-414c-483e-9298-79da6334217c"
      },
      "source": [
        "%%time\n",
        "\n",
        "test_set = test_datagen.flow_from_directory(\n",
        "        test_path,\n",
        "        target_size=(28, 28),\n",
        "        color_mode=\"grayscale\",\n",
        "        batch_size=128,\n",
        "        class_mode='categorical') \n",
        "\n"
      ],
      "execution_count": 0,
      "outputs": [
        {
          "output_type": "stream",
          "text": [
            "Found 690000 images belonging to 345 classes.\n",
            "Wall time: 25.1 s\n"
          ],
          "name": "stdout"
        }
      ]
    },
    {
      "cell_type": "markdown",
      "metadata": {
        "id": "atq5ND9zl_fA",
        "colab_type": "text"
      },
      "source": [
        "### Training the model"
      ]
    },
    {
      "cell_type": "code",
      "metadata": {
        "id": "jkC12cwFl_fB",
        "colab_type": "code",
        "colab": {}
      },
      "source": [
        "model.compile(optimizer = \"nadam\", loss=\"categorical_crossentropy\", metrics=[\"accuracy\"])"
      ],
      "execution_count": 0,
      "outputs": []
    },
    {
      "cell_type": "code",
      "metadata": {
        "id": "7fcEuHTNl_fH",
        "colab_type": "code",
        "colab": {}
      },
      "source": [
        "save_cb = ModelCheckpoint(\"conv_doodle_model.h5\",\n",
        "                          save_best_only=True)"
      ],
      "execution_count": 0,
      "outputs": []
    },
    {
      "cell_type": "code",
      "metadata": {
        "id": "waWzBkwwl_fL",
        "colab_type": "code",
        "colab": {},
        "outputId": "0d70bcb7-3653-4ffe-c34e-7f9dd13dd50f"
      },
      "source": [
        "%%time\n",
        "\n",
        "history = model.fit_generator(\n",
        "            training_set,\n",
        "            steps_per_epoch=12000,\n",
        "            epochs=20,\n",
        "            validation_data=test_set,\n",
        "            validation_steps=3000, \n",
        "            callbacks=[save_cb])\n",
        "\n"
      ],
      "execution_count": 0,
      "outputs": [
        {
          "output_type": "stream",
          "text": [
            "Epoch 1/20\n",
            " 1939/12000 [===>..........................] - ETA: 44:10 - loss: 4.6829 - accuracy: 0.0844"
          ],
          "name": "stdout"
        }
      ]
    },
    {
      "cell_type": "code",
      "metadata": {
        "id": "E2lu1472l_fQ",
        "colab_type": "code",
        "colab": {}
      },
      "source": [
        "pd.DataFrame(history.history).plot(figsize=(8, 5))\n",
        "plt.grid(True)\n",
        "plt.gca().set_ylim(0, 1);"
      ],
      "execution_count": 0,
      "outputs": []
    },
    {
      "cell_type": "code",
      "metadata": {
        "id": "7C_k-euZl_fU",
        "colab_type": "code",
        "colab": {}
      },
      "source": [
        ""
      ],
      "execution_count": 0,
      "outputs": []
    },
    {
      "cell_type": "code",
      "metadata": {
        "id": "dKlRp-4ul_fa",
        "colab_type": "code",
        "colab": {}
      },
      "source": [
        ""
      ],
      "execution_count": 0,
      "outputs": []
    },
    {
      "cell_type": "code",
      "metadata": {
        "id": "f7ADVDqvl_ff",
        "colab_type": "code",
        "colab": {}
      },
      "source": [
        ""
      ],
      "execution_count": 0,
      "outputs": []
    },
    {
      "cell_type": "markdown",
      "metadata": {
        "id": "_0hFEkotl_fk",
        "colab_type": "text"
      },
      "source": [
        "### Saving model"
      ]
    },
    {
      "cell_type": "code",
      "metadata": {
        "id": "8ayVX8A4l_fk",
        "colab_type": "code",
        "colab": {}
      },
      "source": [
        "model.save(\"model_new.h5\")\n"
      ],
      "execution_count": 0,
      "outputs": []
    },
    {
      "cell_type": "code",
      "metadata": {
        "id": "l9RtyFdnl_fp",
        "colab_type": "code",
        "colab": {}
      },
      "source": [
        "model_json = model.to_json()\n",
        "with open(\"model_new.json\", \"w\") as json_file:\n",
        "    json_file.write(model_json)"
      ],
      "execution_count": 0,
      "outputs": []
    },
    {
      "cell_type": "code",
      "metadata": {
        "id": "-a4ASH1il_fw",
        "colab_type": "code",
        "colab": {}
      },
      "source": [
        ""
      ],
      "execution_count": 0,
      "outputs": []
    },
    {
      "cell_type": "code",
      "metadata": {
        "id": "zDuYv2tUl_f0",
        "colab_type": "code",
        "colab": {}
      },
      "source": [
        ""
      ],
      "execution_count": 0,
      "outputs": []
    },
    {
      "cell_type": "code",
      "metadata": {
        "id": "SXFwibi6l_f4",
        "colab_type": "code",
        "colab": {}
      },
      "source": [
        "# convolution layer 1\n",
        "#model.add(Convolution2D(filters = 32,\n",
        "#                        kernel_size = (3,3),\n",
        "#                        activation = \"relu\",\n",
        "#                        input_shape = (28,28,1)))\n"
      ],
      "execution_count": 0,
      "outputs": []
    },
    {
      "cell_type": "code",
      "metadata": {
        "id": "x3Dasic1l_f9",
        "colab_type": "code",
        "colab": {}
      },
      "source": [
        "# convolution layer 2\n",
        "#model.add(Convolution2D(filters = 32,\n",
        "#                        kernel_size = (3,3),\n",
        "#                        activation = \"relu\"))\n"
      ],
      "execution_count": 0,
      "outputs": []
    },
    {
      "cell_type": "code",
      "metadata": {
        "id": "K1nT61TGl_gB",
        "colab_type": "code",
        "colab": {}
      },
      "source": [
        "# maxpooling layer 1\n",
        "#model.add(MaxPooling2D(pool_size=(2,2)))\n"
      ],
      "execution_count": 0,
      "outputs": []
    },
    {
      "cell_type": "code",
      "metadata": {
        "id": "_9MQuEVVl_gH",
        "colab_type": "code",
        "colab": {}
      },
      "source": [
        "# deactivating some elements to avoid overfitting\n",
        "#model.add(Dropout(.20))\n"
      ],
      "execution_count": 0,
      "outputs": []
    },
    {
      "cell_type": "code",
      "metadata": {
        "id": "_PxmL6_pl_gL",
        "colab_type": "code",
        "colab": {}
      },
      "source": [
        "# convolution layer 3\n",
        "#model.add(Convolution2D(filters = 64,\n",
        "#                        kernel_size = (3,3),\n",
        "#                        activation = \"relu\"))\n",
        "                        "
      ],
      "execution_count": 0,
      "outputs": []
    },
    {
      "cell_type": "code",
      "metadata": {
        "id": "A8uuJI5Ml_gP",
        "colab_type": "code",
        "colab": {}
      },
      "source": [
        "# convolution layer 4\n",
        "#model.add(Convolution2D(filters = 64,\n",
        "#                        kernel_size = (3,3),\n",
        "#                        activation = \"relu\"))\n"
      ],
      "execution_count": 0,
      "outputs": []
    },
    {
      "cell_type": "code",
      "metadata": {
        "id": "TjyGp55_l_gT",
        "colab_type": "code",
        "colab": {}
      },
      "source": [
        "# maxpooling layer 2\n",
        "#model.add(MaxPooling2D(pool_size=(2,2)))\n"
      ],
      "execution_count": 0,
      "outputs": []
    },
    {
      "cell_type": "code",
      "metadata": {
        "id": "tpuvn53ll_gY",
        "colab_type": "code",
        "colab": {}
      },
      "source": [
        "# deactivating some elements\n",
        "#model.add(Dropout(.1))\n"
      ],
      "execution_count": 0,
      "outputs": []
    },
    {
      "cell_type": "code",
      "metadata": {
        "id": "P3J2S4LHl_gc",
        "colab_type": "code",
        "colab": {}
      },
      "source": [
        "# flattening layer\n",
        "#model.add(Flatten())\n",
        "\n",
        "# fully connected layer\n",
        "#model.add(Dense(256, activation=\"relu\"))\n",
        "#model.add(Dense(output_dim=5, activation=\"softmax\"))  #output_dim is the number of classes used for classification\n",
        "                                                      # i.e the image categories  \n",
        "\n",
        "\n"
      ],
      "execution_count": 0,
      "outputs": []
    }
  ]
}