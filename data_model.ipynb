{
 "cells": [
  {
   "cell_type": "code",
   "execution_count": 21,
   "metadata": {},
   "outputs": [],
   "source": [
    "from keras.models import Sequential\n",
    "from keras.layers import Convolution2D, MaxPooling2D, Flatten, Dense, Dropout\n",
    "from keras.preprocessing.image import ImageDataGenerator\n"
   ]
  },
  {
   "cell_type": "code",
   "execution_count": 22,
   "metadata": {},
   "outputs": [],
   "source": [
    "from keras.callbacks import ModelCheckpoint"
   ]
  },
  {
   "cell_type": "code",
   "execution_count": 23,
   "metadata": {},
   "outputs": [],
   "source": [
    "import numpy as np\n",
    "import pandas as pd\n",
    "import matplotlib.pyplot as plt\n",
    "\n",
    "#import tensorflow as tf\n",
    "#from tensorflow import keras\n",
    "#from tensorflow.keras.layers import Conv2D, MaxPooling2D, Dropout"
   ]
  },
  {
   "cell_type": "code",
   "execution_count": 24,
   "metadata": {},
   "outputs": [],
   "source": [
    "img_size = (28, 28, 1)\n",
    "layer_sizes = (128, 64)\n",
    "n_filters = (32, 64, 128)\n",
    "kernel_sizes = (7, 3, 3)\n",
    "pool_size = 2\n",
    "drop_prob = 0.5\n",
    "\n",
    "\n",
    "n_classes = 345   #output_dim/units is equal to the number of image classes"
   ]
  },
  {
   "cell_type": "code",
   "execution_count": 25,
   "metadata": {},
   "outputs": [],
   "source": [
    "model = Sequential([Convolution2D(filters = 32,\n",
    "                        kernel_size = (3,3),\n",
    "                        activation = \"relu\",\n",
    "                        input_shape = img_size),\n",
    "                    Convolution2D(filters = 32,\n",
    "                        kernel_size = (3,3),\n",
    "                        activation = \"relu\"),\n",
    "                    MaxPooling2D(pool_size=(2,2)),\n",
    "                    Dropout(.20),\n",
    "                    Convolution2D(filters = 64,\n",
    "                        kernel_size = (3,3),\n",
    "                        activation = \"relu\"),\n",
    "                    Convolution2D(filters = 64,\n",
    "                        kernel_size = (3,3),\n",
    "                        activation = \"relu\"),\n",
    "                    MaxPooling2D(pool_size=(2,2)),\n",
    "                    Dropout(.1),\n",
    "                    Flatten(),\n",
    "                    Dense(512, activation=\"relu\"),\n",
    "                    Dense(n_classes, activation=\"softmax\") \n",
    "                   ])"
   ]
  },
  {
   "cell_type": "code",
   "execution_count": 26,
   "metadata": {},
   "outputs": [
    {
     "name": "stdout",
     "output_type": "stream",
     "text": [
      "Model: \"sequential_2\"\n",
      "_________________________________________________________________\n",
      "Layer (type)                 Output Shape              Param #   \n",
      "=================================================================\n",
      "conv2d_5 (Conv2D)            (None, 26, 26, 32)        320       \n",
      "_________________________________________________________________\n",
      "conv2d_6 (Conv2D)            (None, 24, 24, 32)        9248      \n",
      "_________________________________________________________________\n",
      "max_pooling2d_3 (MaxPooling2 (None, 12, 12, 32)        0         \n",
      "_________________________________________________________________\n",
      "dropout_3 (Dropout)          (None, 12, 12, 32)        0         \n",
      "_________________________________________________________________\n",
      "conv2d_7 (Conv2D)            (None, 10, 10, 64)        18496     \n",
      "_________________________________________________________________\n",
      "conv2d_8 (Conv2D)            (None, 8, 8, 64)          36928     \n",
      "_________________________________________________________________\n",
      "max_pooling2d_4 (MaxPooling2 (None, 4, 4, 64)          0         \n",
      "_________________________________________________________________\n",
      "dropout_4 (Dropout)          (None, 4, 4, 64)          0         \n",
      "_________________________________________________________________\n",
      "flatten_2 (Flatten)          (None, 1024)              0         \n",
      "_________________________________________________________________\n",
      "dense_3 (Dense)              (None, 512)               524800    \n",
      "_________________________________________________________________\n",
      "dense_4 (Dense)              (None, 345)               176985    \n",
      "=================================================================\n",
      "Total params: 766,777\n",
      "Trainable params: 766,777\n",
      "Non-trainable params: 0\n",
      "_________________________________________________________________\n"
     ]
    }
   ],
   "source": [
    "model.summary()"
   ]
  },
  {
   "cell_type": "markdown",
   "metadata": {},
   "source": [
    "### Training the model"
   ]
  },
  {
   "cell_type": "code",
   "execution_count": 27,
   "metadata": {},
   "outputs": [],
   "source": [
    "train_path = \"datasets/data/train_set/\"\n",
    "test_path = \"datasets/data/test_set/\"\n",
    "\n",
    "data_file_path = \"datasets/data/numpy_bitmap\""
   ]
  },
  {
   "cell_type": "code",
   "execution_count": 28,
   "metadata": {},
   "outputs": [],
   "source": [
    "train_datagen = ImageDataGenerator(rescale=1./255)\n",
    "\n",
    "test_datagen = ImageDataGenerator(rescale=1./255)"
   ]
  },
  {
   "cell_type": "code",
   "execution_count": 29,
   "metadata": {},
   "outputs": [
    {
     "name": "stdout",
     "output_type": "stream",
     "text": [
      "Found 2760000 images belonging to 345 classes.\n",
      "Wall time: 1min 54s\n"
     ]
    }
   ],
   "source": [
    "%%time\n",
    "\n",
    "training_set = train_datagen.flow_from_directory(\n",
    "        train_path,\n",
    "        target_size=(28, 28),\n",
    "        color_mode=\"grayscale\",\n",
    "        batch_size=256,\n",
    "        class_mode='categorical')"
   ]
  },
  {
   "cell_type": "code",
   "execution_count": 30,
   "metadata": {},
   "outputs": [
    {
     "name": "stdout",
     "output_type": "stream",
     "text": [
      "Found 690000 images belonging to 345 classes.\n",
      "Wall time: 29.2 s\n"
     ]
    }
   ],
   "source": [
    "%%time\n",
    "\n",
    "test_set = test_datagen.flow_from_directory(\n",
    "        test_path,\n",
    "        target_size=(28, 28),\n",
    "        color_mode=\"grayscale\",\n",
    "        batch_size=256,\n",
    "        class_mode='categorical')"
   ]
  },
  {
   "cell_type": "code",
   "execution_count": null,
   "metadata": {},
   "outputs": [],
   "source": []
  },
  {
   "cell_type": "code",
   "execution_count": 31,
   "metadata": {},
   "outputs": [],
   "source": [
    "model.compile(optimizer = \"nadam\", loss=\"categorical_crossentropy\", metrics=[\"accuracy\"])"
   ]
  },
  {
   "cell_type": "code",
   "execution_count": 32,
   "metadata": {},
   "outputs": [],
   "source": [
    "save_cb = ModelCheckpoint(\"conv_doodle_model.h5\",\n",
    "                          save_best_only=True)"
   ]
  },
  {
   "cell_type": "code",
   "execution_count": 34,
   "metadata": {},
   "outputs": [],
   "source": [
    "from keras.callbacks import TensorBoard"
   ]
  },
  {
   "cell_type": "code",
   "execution_count": 35,
   "metadata": {},
   "outputs": [
    {
     "name": "stdout",
     "output_type": "stream",
     "text": [
      "Epoch 1/10\n",
      "10781/10781 [==============================] - 5571s 517ms/step - loss: 1.8302 - accuracy: 0.5695 - val_loss: 1.4702 - val_accuracy: 0.6386\n",
      "Epoch 2/10\n",
      "10781/10781 [==============================] - 5984s 555ms/step - loss: 1.5220 - accuracy: 0.6316 - val_loss: 1.5209 - val_accuracy: 0.6560\n",
      "Epoch 3/10\n",
      "10781/10781 [==============================] - 5745s 533ms/step - loss: 1.4756 - accuracy: 0.6411 - val_loss: 1.5490 - val_accuracy: 0.6553\n",
      "Epoch 4/10\n",
      "10781/10781 [==============================] - 5212s 483ms/step - loss: 1.4532 - accuracy: 0.6457 - val_loss: 1.3514 - val_accuracy: 0.6612\n",
      "Epoch 5/10\n",
      "10781/10781 [==============================] - 5185s 481ms/step - loss: 1.4399 - accuracy: 0.6485 - val_loss: 1.6489 - val_accuracy: 0.6641\n",
      "Epoch 6/10\n",
      "10781/10781 [==============================] - 7557s 701ms/step - loss: 1.4301 - accuracy: 0.6504 - val_loss: 1.6351 - val_accuracy: 0.6645\n",
      "Epoch 7/10\n",
      "10781/10781 [==============================] - 9309s 863ms/step - loss: 1.4240 - accuracy: 0.6516 - val_loss: 1.0987 - val_accuracy: 0.6629\n",
      "Epoch 8/10\n",
      "10781/10781 [==============================] - 6039s 560ms/step - loss: 1.4183 - accuracy: 0.6528 - val_loss: 1.3078 - val_accuracy: 0.6657\n",
      "Epoch 9/10\n",
      "10781/10781 [==============================] - 6110s 567ms/step - loss: 1.4141 - accuracy: 0.6538 - val_loss: 1.2591 - val_accuracy: 0.6621\n",
      "Epoch 10/10\n",
      "10781/10781 [==============================] - 5948s 552ms/step - loss: 1.4111 - accuracy: 0.6544 - val_loss: 1.3827 - val_accuracy: 0.6685\n",
      "Wall time: 17h 24min 23s\n"
     ]
    }
   ],
   "source": [
    "%%time\n",
    "\n",
    "history = model.fit(\n",
    "            training_set,\n",
    "            steps_per_epoch=training_set.n//training_set.batch_size,\n",
    "            epochs=10,\n",
    "            validation_data=test_set,\n",
    "            validation_steps=test_set.n//test_set.batch_size, \n",
    "            callbacks=[save_cb, TensorBoard(log_dir=\"QuickDraw\")])\n",
    "\n",
    "\n",
    "\n",
    "#history = model.fit(train_x, train_y, validation_data=(test_x, test_y), epochs=5, batch_size=256,\n",
    "#          callbacks=[TensorBoard(log_dir=\"QuickDraw\"), save_cb])\n",
    "\n"
   ]
  },
  {
   "cell_type": "code",
   "execution_count": 41,
   "metadata": {},
   "outputs": [
    {
     "data": {
      "image/png": "[encoded data removed]",
      "text/plain": [
       "<Figure size 576x360 with 1 Axes>"
      ]
     },
     "metadata": {
      "needs_background": "light"
     },
     "output_type": "display_data"
    }
   ],
   "source": [
    "pd.DataFrame(history.history).plot(figsize=(8, 5))\n",
    "plt.grid(True)\n",
    "plt.gca().set_ylim(0, 2);"
   ]
  },
  {
   "cell_type": "markdown",
   "metadata": {},
   "source": [
    "### Saving model"
   ]
  },
  {
   "cell_type": "code",
   "execution_count": 37,
   "metadata": {},
   "outputs": [],
   "source": [
    "model.save(\"conv_doodle_model.h5\")\n"
   ]
  },
  {
   "cell_type": "code",
   "execution_count": 38,
   "metadata": {},
   "outputs": [],
   "source": [
    "model_json = model.to_json()\n",
    "with open(\"conv_doodle_model_json.json\", \"w\") as json_file:\n",
    "    json_file.write(model_json)"
   ]
  },
  {
   "cell_type": "code",
   "execution_count": null,
   "metadata": {},
   "outputs": [],
   "source": []
  },
  {
   "cell_type": "code",
   "execution_count": null,
   "metadata": {},
   "outputs": [],
   "source": []
  },
  {
   "cell_type": "code",
   "execution_count": null,
   "metadata": {},
   "outputs": [],
   "source": []
  },
  {
   "cell_type": "code",
   "execution_count": null,
   "metadata": {},
   "outputs": [],
   "source": []
  }
 ],
 "metadata": {
  "kernelspec": {
   "display_name": "Python 3",
   "language": "python",
   "name": "python3"
  },
  "language_info": {
   "codemirror_mode": {
    "name": "ipython",
    "version": 3
   },
   "file_extension": ".py",
   "mimetype": "text/x-python",
   "name": "python",
   "nbconvert_exporter": "python",
   "pygments_lexer": "ipython3",
   "version": "3.8.2"
  }
 },
 "nbformat": 4,
 "nbformat_minor": 4
}
