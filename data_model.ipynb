{
 "cells": [
  {
   "cell_type": "code",
   "execution_count": 5,
   "metadata": {},
   "outputs": [],
   "source": [
    "from keras.models import Sequential\n",
    "from keras.layers import Convolution2D, MaxPooling2D, Flatten, Dense, Dropout\n",
    "from keras.preprocessing.image import ImageDataGenerator\n"
   ]
  },
  {
   "cell_type": "code",
   "execution_count": 6,
   "metadata": {},
   "outputs": [],
   "source": [
    "import numpy as np\n",
    "import pandas as pd\n",
    "import matplotlib.pyplot as plt\n",
    "\n",
    "#import tensorflow as tf\n",
    "#from tensorflow import keras"
   ]
  },
  {
   "cell_type": "code",
   "execution_count": 7,
   "metadata": {},
   "outputs": [],
   "source": [
    "#from tensorflow.keras.layers import Conv2D, MaxPooling2D, Dropout"
   ]
  },
  {
   "cell_type": "code",
   "execution_count": 8,
   "metadata": {},
   "outputs": [],
   "source": [
    "img_size = (28, 28, 1)\n",
    "layer_sizes = (128, 64)\n",
    "n_filters = (32, 64, 128)\n",
    "kernel_sizes = (7, 3, 3)\n",
    "pool_size = 2\n",
    "drop_prob = 0.5"
   ]
  },
  {
   "cell_type": "code",
   "execution_count": 10,
   "metadata": {},
   "outputs": [],
   "source": [
    "model = Sequential([Convolution2D(filters = 32,\n",
    "                        kernel_size = (3,3),\n",
    "                        activation = \"relu\",\n",
    "                        input_shape = (28,28,1)),\n",
    "                    Convolution2D(filters = 32,\n",
    "                        kernel_size = (3,3),\n",
    "                        activation = \"relu\"),\n",
    "                    MaxPooling2D(pool_size),\n",
    "                    Dropout(.20),\n",
    "                    Convolution2D(filters = 64,\n",
    "                        kernel_size = (3,3),\n",
    "                        activation = \"relu\"),\n",
    "                    Convolution2D(filters = 64,\n",
    "                        kernel_size = (3,3),\n",
    "                        activation = \"relu\"),\n",
    "                    MaxPooling2D(pool_size=(2,2)),\n",
    "                    Dropout(.1),\n",
    "                    Flatten(),\n",
    "                    Dense(256, activation=\"relu\"),\n",
    "                    Dense(units=5, activation=\"softmax\") #output_dim/units is equal to the number of image classes\n",
    "                   ])"
   ]
  },
  {
   "cell_type": "code",
   "execution_count": 16,
   "metadata": {},
   "outputs": [],
   "source": [
    "# convolution layer 1\n",
    "#model.add(Convolution2D(filters = 32,\n",
    "#                        kernel_size = (3,3),\n",
    "#                        activation = \"relu\",\n",
    "#                        input_shape = (28,28,1)))\n"
   ]
  },
  {
   "cell_type": "code",
   "execution_count": null,
   "metadata": {},
   "outputs": [],
   "source": [
    "# convolution layer 2\n",
    "#model.add(Convolution2D(filters = 32,\n",
    "#                        kernel_size = (3,3),\n",
    "#                        activation = \"relu\"))\n"
   ]
  },
  {
   "cell_type": "code",
   "execution_count": null,
   "metadata": {},
   "outputs": [],
   "source": [
    "# maxpooling layer 1\n",
    "#model.add(MaxPooling2D(pool_size=(2,2)))\n"
   ]
  },
  {
   "cell_type": "code",
   "execution_count": null,
   "metadata": {},
   "outputs": [],
   "source": [
    "# deactivating some elements to avoid overfitting\n",
    "#model.add(Dropout(.20))\n"
   ]
  },
  {
   "cell_type": "code",
   "execution_count": null,
   "metadata": {},
   "outputs": [],
   "source": [
    "# convolution layer 3\n",
    "#model.add(Convolution2D(filters = 64,\n",
    "#                        kernel_size = (3,3),\n",
    "#                        activation = \"relu\"))\n",
    "                        "
   ]
  },
  {
   "cell_type": "code",
   "execution_count": null,
   "metadata": {},
   "outputs": [],
   "source": [
    "# convolution layer 4\n",
    "#model.add(Convolution2D(filters = 64,\n",
    "#                        kernel_size = (3,3),\n",
    "#                        activation = \"relu\"))\n"
   ]
  },
  {
   "cell_type": "code",
   "execution_count": null,
   "metadata": {},
   "outputs": [],
   "source": [
    "# maxpooling layer 2\n",
    "#model.add(MaxPooling2D(pool_size=(2,2)))\n"
   ]
  },
  {
   "cell_type": "code",
   "execution_count": null,
   "metadata": {},
   "outputs": [],
   "source": [
    "# deactivating some elements\n",
    "#model.add(Dropout(.1))\n"
   ]
  },
  {
   "cell_type": "code",
   "execution_count": null,
   "metadata": {},
   "outputs": [],
   "source": [
    "# flattening layer\n",
    "#model.add(Flatten())\n",
    "\n",
    "# fully connected layer\n",
    "#model.add(Dense(256, activation=\"relu\"))\n",
    "#model.add(Dense(output_dim=5, activation=\"softmax\"))  #output_dim is the number of classes used for classification\n",
    "                                                      # i.e the image categories  \n",
    "\n",
    "\n"
   ]
  },
  {
   "cell_type": "code",
   "execution_count": null,
   "metadata": {},
   "outputs": [],
   "source": [
    "model.compile(optimizer = \"adam\", loss=\"categorical_crossentropy\", metrics=[\"accuracy\"])"
   ]
  },
  {
   "cell_type": "code",
   "execution_count": null,
   "metadata": {},
   "outputs": [],
   "source": [
    "train_datagen = ImageDataGenerator(\n",
    "        rotation_range=40,\n",
    "        width_shift_range=0.2,\n",
    "        height_shift_range=0.2,\n",
    "        rescale=1./255,\n",
    "        shear_range=0.2,\n",
    "        zoom_range=0.2,\n",
    "        horizontal_flip=True,\n",
    "        vertical_flip=False,\n",
    "        fill_mode='nearest')\n",
    "\n"
   ]
  },
  {
   "cell_type": "code",
   "execution_count": null,
   "metadata": {},
   "outputs": [],
   "source": [
    "test_datagen = ImageDataGenerator(rescale=1./255)\n",
    "\n",
    "training_set = train_datagen.flow_from_directory(\n",
    "        'data/train_set',\n",
    "        target_size=(28, 28),\n",
    "        color_mode=\"grayscale\",\n",
    "        batch_size=128,\n",
    "        class_mode='categorical')\n",
    "\n"
   ]
  },
  {
   "cell_type": "code",
   "execution_count": null,
   "metadata": {},
   "outputs": [],
   "source": [
    "test_set = test_datagen.flow_from_directory(\n",
    "        'data/test_set',\n",
    "        target_size=(28, 28),\n",
    "        color_mode=\"grayscale\",\n",
    "        batch_size=128,\n",
    "        class_mode='categorical') \n",
    "\n"
   ]
  },
  {
   "cell_type": "code",
   "execution_count": null,
   "metadata": {},
   "outputs": [],
   "source": [
    "model.fit_generator(\n",
    "        training_set,\n",
    "        steps_per_epoch=12000,\n",
    "        epochs=5,\n",
    "        validation_data=test_set,\n",
    "        validation_steps=3000)\n",
    "\n",
    "model.save(\"model_new.h5\")\n",
    "model_json = model.to_json()\n",
    "with open(\"model_new.json\", \"w\") as json_file:\n",
    "    json_file.write(model_json)"
   ]
  }
 ],
 "metadata": {
  "kernelspec": {
   "display_name": "Python 3",
   "language": "python",
   "name": "python3"
  },
  "language_info": {
   "codemirror_mode": {
    "name": "ipython",
    "version": 3
   },
   "file_extension": ".py",
   "mimetype": "text/x-python",
   "name": "python",
   "nbconvert_exporter": "python",
   "pygments_lexer": "ipython3",
   "version": "3.8.2"
  }
 },
 "nbformat": 4,
 "nbformat_minor": 4
}
