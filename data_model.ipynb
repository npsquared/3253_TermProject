{
 "cells": [
  {
   "cell_type": "markdown",
   "metadata": {},
   "source": [
    "### Building a Convolutional Neural Network model on the quick draw data set"
   ]
  },
  {
   "cell_type": "code",
   "execution_count": 106,
   "metadata": {},
   "outputs": [],
   "source": [
    "from keras.models import Sequential, load_model\n",
    "from keras.layers import Convolution2D, MaxPooling2D, Flatten, Dense, Dropout\n",
    "from keras.preprocessing.image import ImageDataGenerator\n"
   ]
  },
  {
   "cell_type": "code",
   "execution_count": 107,
   "metadata": {},
   "outputs": [],
   "source": [
    "from keras.callbacks import ModelCheckpoint"
   ]
  },
  {
   "cell_type": "code",
   "execution_count": 108,
   "metadata": {},
   "outputs": [],
   "source": [
    "import numpy as np\n",
    "import pandas as pd\n",
    "import matplotlib.pyplot as plt\n"
   ]
  },
  {
   "cell_type": "code",
   "execution_count": 109,
   "metadata": {},
   "outputs": [],
   "source": [
    "img_size = (28, 28, 1)\n",
    "layer_sizes = (128, 64)\n",
    "n_filters = (32, 64, 128)\n",
    "kernel_sizes = (7, 3, 3)\n",
    "pool_size = 2\n",
    "drop_prob = 0.5\n",
    "\n",
    "\n",
    "n_classes = 345   #output_dim/units is equal to the number of image classes"
   ]
  },
  {
   "cell_type": "code",
   "execution_count": 110,
   "metadata": {},
   "outputs": [],
   "source": [
    "model = Sequential([Convolution2D(filters = 32,\n",
    "                        kernel_size = (3,3),\n",
    "                        activation = \"relu\",\n",
    "                        input_shape = img_size),\n",
    "                    Convolution2D(filters = 32,\n",
    "                        kernel_size = (3,3),\n",
    "                        activation = \"relu\"),\n",
    "                    MaxPooling2D(pool_size=(2,2)),\n",
    "                    Dropout(.20),\n",
    "                    Convolution2D(filters = 64,\n",
    "                        kernel_size = (3,3),\n",
    "                        activation = \"relu\"),\n",
    "                    Convolution2D(filters = 64,\n",
    "                        kernel_size = (3,3),\n",
    "                        activation = \"relu\"),\n",
    "                    MaxPooling2D(pool_size=(2,2)),\n",
    "                    Dropout(.1),\n",
    "                    Flatten(),\n",
    "                    Dense(512, activation=\"relu\"),\n",
    "                    Dense(n_classes, activation=\"softmax\") \n",
    "                   ])"
   ]
  },
  {
   "cell_type": "code",
   "execution_count": 111,
   "metadata": {},
   "outputs": [
    {
     "name": "stdout",
     "output_type": "stream",
     "text": [
      "Model: \"sequential_7\"\n",
      "_________________________________________________________________\n",
      "Layer (type)                 Output Shape              Param #   \n",
      "=================================================================\n",
      "conv2d_21 (Conv2D)           (None, 26, 26, 32)        320       \n",
      "_________________________________________________________________\n",
      "conv2d_22 (Conv2D)           (None, 24, 24, 32)        9248      \n",
      "_________________________________________________________________\n",
      "max_pooling2d_11 (MaxPooling (None, 12, 12, 32)        0         \n",
      "_________________________________________________________________\n",
      "dropout_11 (Dropout)         (None, 12, 12, 32)        0         \n",
      "_________________________________________________________________\n",
      "conv2d_23 (Conv2D)           (None, 10, 10, 64)        18496     \n",
      "_________________________________________________________________\n",
      "conv2d_24 (Conv2D)           (None, 8, 8, 64)          36928     \n",
      "_________________________________________________________________\n",
      "max_pooling2d_12 (MaxPooling (None, 4, 4, 64)          0         \n",
      "_________________________________________________________________\n",
      "dropout_12 (Dropout)         (None, 4, 4, 64)          0         \n",
      "_________________________________________________________________\n",
      "flatten_6 (Flatten)          (None, 1024)              0         \n",
      "_________________________________________________________________\n",
      "dense_15 (Dense)             (None, 512)               524800    \n",
      "_________________________________________________________________\n",
      "dense_16 (Dense)             (None, 345)               176985    \n",
      "=================================================================\n",
      "Total params: 766,777\n",
      "Trainable params: 766,777\n",
      "Non-trainable params: 0\n",
      "_________________________________________________________________\n"
     ]
    }
   ],
   "source": [
    "model.summary()"
   ]
  },
  {
   "cell_type": "markdown",
   "metadata": {},
   "source": [
    "### Training the model"
   ]
  },
  {
   "cell_type": "code",
   "execution_count": 96,
   "metadata": {},
   "outputs": [],
   "source": [
    "train_path = \"datasets/data/train_set/\"\n",
    "test_path = \"datasets/data/test_set/\"\n",
    "\n",
    "data_file_path = \"datasets/data/numpy_bitmap\""
   ]
  },
  {
   "cell_type": "code",
   "execution_count": 98,
   "metadata": {},
   "outputs": [],
   "source": [
    "train_datagen2 = ImageDataGenerator(\n",
    "        rotation_range=40,\n",
    "        width_shift_range=0.2,\n",
    "        height_shift_range=0.2,\n",
    "        rescale=1./255,\n",
    "        shear_range=0.2,\n",
    "        zoom_range=0.2,\n",
    "        horizontal_flip=True,\n",
    "        vertical_flip=False,\n",
    "        fill_mode='nearest')\n",
    "\n",
    "\n",
    "\n",
    "test_datagen2 = ImageDataGenerator(rescale=1./255)"
   ]
  },
  {
   "cell_type": "code",
   "execution_count": 99,
   "metadata": {},
   "outputs": [
    {
     "name": "stdout",
     "output_type": "stream",
     "text": [
      "Found 2760000 images belonging to 345 classes.\n",
      "Wall time: 1min 39s\n"
     ]
    }
   ],
   "source": [
    "%%time\n",
    "\n",
    "training_set = train_datagen.flow_from_directory(\n",
    "        train_path,\n",
    "        target_size=(28, 28),\n",
    "        color_mode=\"grayscale\",\n",
    "        batch_size=256,\n",
    "        class_mode='categorical')"
   ]
  },
  {
   "cell_type": "code",
   "execution_count": 100,
   "metadata": {},
   "outputs": [
    {
     "name": "stdout",
     "output_type": "stream",
     "text": [
      "Found 690000 images belonging to 345 classes.\n",
      "Wall time: 28.6 s\n"
     ]
    }
   ],
   "source": [
    "%%time\n",
    "\n",
    "test_set = test_datagen.flow_from_directory(\n",
    "        test_path,\n",
    "        target_size=(28, 28),\n",
    "        color_mode=\"grayscale\",\n",
    "        batch_size=256,\n",
    "        class_mode='categorical')"
   ]
  },
  {
   "cell_type": "code",
   "execution_count": null,
   "metadata": {},
   "outputs": [],
   "source": []
  },
  {
   "cell_type": "code",
   "execution_count": 112,
   "metadata": {},
   "outputs": [],
   "source": [
    "model.compile(optimizer = \"nadam\", loss=\"categorical_crossentropy\", metrics=[\"accuracy\"])"
   ]
  },
  {
   "cell_type": "code",
   "execution_count": 113,
   "metadata": {},
   "outputs": [],
   "source": [
    "save_cb = ModelCheckpoint(\"conv_doodle_model.h5\",\n",
    "                          save_best_only=True)"
   ]
  },
  {
   "cell_type": "code",
   "execution_count": 114,
   "metadata": {},
   "outputs": [],
   "source": [
    "from keras.callbacks import TensorBoard"
   ]
  },
  {
   "cell_type": "code",
   "execution_count": 115,
   "metadata": {},
   "outputs": [
    {
     "name": "stdout",
     "output_type": "stream",
     "text": [
      "Epoch 1/15\n",
      "    2/10781 [..............................] - ETA: 1:25:11 - loss: 5.8444 - accuracy: 0.0020    "
     ]
    },
    {
     "name": "stderr",
     "output_type": "stream",
     "text": [
      "C:\\Users\\nitin\\AppData\\Local\\Continuum\\anaconda3\\envs\\nitin\\lib\\site-packages\\keras\\callbacks\\callbacks.py:92: RuntimeWarning: Method (on_train_batch_end) is slow compared to the batch update (0.561512). Check your callbacks.\n",
      "  warnings.warn(\n"
     ]
    },
    {
     "name": "stdout",
     "output_type": "stream",
     "text": [
      "10781/10781 [==============================] - 5925s 550ms/step - loss: 1.8225 - accuracy: 0.5713 - val_loss: 1.3189 - val_accuracy: 0.6420\n",
      "Epoch 2/15\n",
      "10781/10781 [==============================] - 6863s 637ms/step - loss: 1.5114 - accuracy: 0.6338 - val_loss: 1.4645 - val_accuracy: 0.6531\n",
      "Epoch 3/15\n",
      "10781/10781 [==============================] - 6667s 618ms/step - loss: 1.4623 - accuracy: 0.6441 - val_loss: 1.3904 - val_accuracy: 0.6607\n",
      "Epoch 4/15\n",
      "10781/10781 [==============================] - 6383s 592ms/step - loss: 1.4393 - accuracy: 0.6489 - val_loss: 1.2158 - val_accuracy: 0.6642\n",
      "Epoch 5/15\n",
      "10781/10781 [==============================] - 6383s 592ms/step - loss: 1.4241 - accuracy: 0.6520 - val_loss: 1.4565 - val_accuracy: 0.6647\n",
      "Epoch 6/15\n",
      "10781/10781 [==============================] - 9158s 849ms/step - loss: 1.4133 - accuracy: 0.6543 - val_loss: 1.1796 - val_accuracy: 0.6658\n",
      "Epoch 7/15\n",
      "10781/10781 [==============================] - 5158s 478ms/step - loss: 1.4076 - accuracy: 0.6555 - val_loss: 1.5588 - val_accuracy: 0.6637\n",
      "Epoch 8/15\n",
      "10781/10781 [==============================] - 5165s 479ms/step - loss: 1.4003 - accuracy: 0.6571 - val_loss: 1.4110 - val_accuracy: 0.6683\n",
      "Epoch 9/15\n",
      "10781/10781 [==============================] - 5197s 482ms/step - loss: 1.3964 - accuracy: 0.6578 - val_loss: 1.5704 - val_accuracy: 0.6688\n",
      "Epoch 10/15\n",
      "10781/10781 [==============================] - 5212s 483ms/step - loss: 1.3928 - accuracy: 0.6584 - val_loss: 1.4241 - val_accuracy: 0.6715\n",
      "Epoch 11/15\n",
      "10781/10781 [==============================] - 5153s 478ms/step - loss: 1.3897 - accuracy: 0.6591 - val_loss: 1.2549 - val_accuracy: 0.6686\n",
      "Epoch 12/15\n",
      "10781/10781 [==============================] - 5066s 470ms/step - loss: 1.3874 - accuracy: 0.6597 - val_loss: 1.2798 - val_accuracy: 0.6711\n",
      "Epoch 13/15\n",
      "10781/10781 [==============================] - 5166s 479ms/step - loss: 1.3851 - accuracy: 0.6601 - val_loss: 1.3570 - val_accuracy: 0.6697\n",
      "Epoch 14/15\n",
      "10781/10781 [==============================] - 6328s 587ms/step - loss: 1.3834 - accuracy: 0.6601 - val_loss: 1.3347 - val_accuracy: 0.6707\n",
      "Epoch 15/15\n",
      "10781/10781 [==============================] - 5627s 522ms/step - loss: 1.3821 - accuracy: 0.6606 - val_loss: 1.4774 - val_accuracy: 0.6698\n",
      "Wall time: 1d 50min 55s\n"
     ]
    }
   ],
   "source": [
    "%%time\n",
    "\n",
    "history = model.fit(\n",
    "            training_set,\n",
    "            steps_per_epoch=training_set.n//training_set.batch_size,\n",
    "            epochs=15,\n",
    "            validation_data=test_set,\n",
    "            validation_steps=test_set.n//test_set.batch_size, \n",
    "            callbacks=[save_cb, TensorBoard(log_dir=\"QuickDraw\")])\n",
    "\n",
    "\n",
    "\n",
    "#history = model.fit(train_x, train_y, validation_data=(test_x, test_y), epochs=5, batch_size=256,\n",
    "#          callbacks=[TensorBoard(log_dir=\"QuickDraw\"), save_cb])\n",
    "\n"
   ]
  },
  {
   "cell_type": "code",
   "execution_count": 116,
   "metadata": {},
   "outputs": [
    {
     "data": {
      "image/png": "[encoded data removed]",
      "text/plain": [
       "<Figure size 576x360 with 1 Axes>"
      ]
     },
     "metadata": {
      "needs_background": "light"
     },
     "output_type": "display_data"
    }
   ],
   "source": [
    "pd.DataFrame(history.history).plot(figsize=(8, 5))\n",
    "plt.grid(True)\n",
    "plt.gca().set_ylim(0, 2);"
   ]
  },
  {
   "cell_type": "code",
   "execution_count": null,
   "metadata": {},
   "outputs": [],
   "source": []
  },
  {
   "cell_type": "markdown",
   "metadata": {},
   "source": [
    "#### Saving model"
   ]
  },
  {
   "cell_type": "code",
   "execution_count": 120,
   "metadata": {},
   "outputs": [],
   "source": [
    "model.save(\"conv_doodle_model.h5\")\n"
   ]
  },
  {
   "cell_type": "code",
   "execution_count": 121,
   "metadata": {},
   "outputs": [],
   "source": [
    "model_json = model.to_json()\n",
    "with open(\"conv_doodle_model_json.json\", \"w\") as json_file:\n",
    "    json_file.write(model_json)"
   ]
  },
  {
   "cell_type": "code",
   "execution_count": null,
   "metadata": {},
   "outputs": [],
   "source": []
  }
 ],
 "metadata": {
  "kernelspec": {
   "display_name": "Python 3",
   "language": "python",
   "name": "python3"
  },
  "language_info": {
   "codemirror_mode": {
    "name": "ipython",
    "version": 3
   },
   "file_extension": ".py",
   "mimetype": "text/x-python",
   "name": "python",
   "nbconvert_exporter": "python",
   "pygments_lexer": "ipython3",
   "version": "3.8.2"
  }
 },
 "nbformat": 4,
 "nbformat_minor": 4
}
